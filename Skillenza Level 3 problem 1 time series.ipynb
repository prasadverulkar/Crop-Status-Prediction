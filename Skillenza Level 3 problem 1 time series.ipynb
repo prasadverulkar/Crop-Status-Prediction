{
 "cells": [
  {
   "cell_type": "code",
   "execution_count": 126,
   "metadata": {},
   "outputs": [],
   "source": [
    "import pandas as pd\n",
    "import numpy as np\n",
    "from sklearn.model_selection import train_test_split\n",
    "from sklearn.ensemble import RandomForestClassifier\n",
    "from xgboost import XGBClassifier,plot_importance, plot_tree\n",
    "from lightgbm import LGBMClassifier\n",
    "from sklearn.preprocessing import LabelEncoder\n",
    "import matplotlib.pyplot as plt\n",
    "import seaborn as sns\n",
    "from sklearn.metrics import accuracy_score, f1_score, classification_report, confusion_matrix\n",
    "from scipy.stats import entropy\n",
    "pd.set_option('display.max_columns',None)\n",
    "pd.set_option('display.max_rows',None)\n",
    "\n",
    "import warnings\n",
    "warnings.filterwarnings('ignore')"
   ]
  },
  {
   "cell_type": "code",
   "execution_count": 127,
   "metadata": {},
   "outputs": [],
   "source": [
    "crop = pd.read_excel(r\"E:\\Data science\\DataHack\\Skillenza\\Stage 5 Level 3\\train.xlsx\")\n",
    "crop_test = pd.read_excel(r\"E:\\Data science\\DataHack\\Skillenza\\Stage 5 Level 3\\test.xlsx\")\n",
    "sub = pd.read_csv(r\"E:\\Data science\\DataHack\\Skillenza\\Stage 5 Level 3\\Submission_cropstatus.csv\")"
   ]
  },
  {
   "cell_type": "code",
   "execution_count": 128,
   "metadata": {},
   "outputs": [
    {
     "data": {
      "text/html": [
       "<div>\n",
       "<style scoped>\n",
       "    .dataframe tbody tr th:only-of-type {\n",
       "        vertical-align: middle;\n",
       "    }\n",
       "\n",
       "    .dataframe tbody tr th {\n",
       "        vertical-align: top;\n",
       "    }\n",
       "\n",
       "    .dataframe thead th {\n",
       "        text-align: right;\n",
       "    }\n",
       "</style>\n",
       "<table border=\"1\" class=\"dataframe\">\n",
       "  <thead>\n",
       "    <tr style=\"text-align: right;\">\n",
       "      <th></th>\n",
       "      <th>ID</th>\n",
       "      <th>Insects</th>\n",
       "      <th>Crop</th>\n",
       "      <th>Soil</th>\n",
       "      <th>Category_of_Toxicant</th>\n",
       "      <th>Does_count</th>\n",
       "      <th>Number_of_Weeks_Used</th>\n",
       "      <th>Number_Weeks_does_not used</th>\n",
       "      <th>Season</th>\n",
       "      <th>Crop_status</th>\n",
       "    </tr>\n",
       "  </thead>\n",
       "  <tbody>\n",
       "    <tr>\n",
       "      <th>0</th>\n",
       "      <td>1</td>\n",
       "      <td>188</td>\n",
       "      <td>Feed</td>\n",
       "      <td>clay</td>\n",
       "      <td>1</td>\n",
       "      <td>0</td>\n",
       "      <td>0.0</td>\n",
       "      <td>0</td>\n",
       "      <td>1</td>\n",
       "      <td>0</td>\n",
       "    </tr>\n",
       "    <tr>\n",
       "      <th>1</th>\n",
       "      <td>2</td>\n",
       "      <td>209</td>\n",
       "      <td>Feed</td>\n",
       "      <td>clay</td>\n",
       "      <td>1</td>\n",
       "      <td>0</td>\n",
       "      <td>0.0</td>\n",
       "      <td>0</td>\n",
       "      <td>2</td>\n",
       "      <td>1</td>\n",
       "    </tr>\n",
       "    <tr>\n",
       "      <th>2</th>\n",
       "      <td>3</td>\n",
       "      <td>257</td>\n",
       "      <td>Feed</td>\n",
       "      <td>clay</td>\n",
       "      <td>1</td>\n",
       "      <td>0</td>\n",
       "      <td>0.0</td>\n",
       "      <td>0</td>\n",
       "      <td>2</td>\n",
       "      <td>1</td>\n",
       "    </tr>\n",
       "    <tr>\n",
       "      <th>3</th>\n",
       "      <td>4</td>\n",
       "      <td>257</td>\n",
       "      <td>Feed</td>\n",
       "      <td>silt</td>\n",
       "      <td>1</td>\n",
       "      <td>0</td>\n",
       "      <td>0.0</td>\n",
       "      <td>0</td>\n",
       "      <td>2</td>\n",
       "      <td>1</td>\n",
       "    </tr>\n",
       "    <tr>\n",
       "      <th>4</th>\n",
       "      <td>5</td>\n",
       "      <td>342</td>\n",
       "      <td>Feed</td>\n",
       "      <td>clay</td>\n",
       "      <td>1</td>\n",
       "      <td>0</td>\n",
       "      <td>0.0</td>\n",
       "      <td>0</td>\n",
       "      <td>2</td>\n",
       "      <td>1</td>\n",
       "    </tr>\n",
       "  </tbody>\n",
       "</table>\n",
       "</div>"
      ],
      "text/plain": [
       "   ID  Insects  Crop  Soil  Category_of_Toxicant  Does_count  \\\n",
       "0   1      188  Feed  clay                     1           0   \n",
       "1   2      209  Feed  clay                     1           0   \n",
       "2   3      257  Feed  clay                     1           0   \n",
       "3   4      257  Feed  silt                     1           0   \n",
       "4   5      342  Feed  clay                     1           0   \n",
       "\n",
       "   Number_of_Weeks_Used  Number_Weeks_does_not used  Season  Crop_status  \n",
       "0                   0.0                           0       1            0  \n",
       "1                   0.0                           0       2            1  \n",
       "2                   0.0                           0       2            1  \n",
       "3                   0.0                           0       2            1  \n",
       "4                   0.0                           0       2            1  "
      ]
     },
     "execution_count": 128,
     "metadata": {},
     "output_type": "execute_result"
    }
   ],
   "source": [
    "crop.head()"
   ]
  },
  {
   "cell_type": "code",
   "execution_count": 129,
   "metadata": {},
   "outputs": [
    {
     "name": "stdout",
     "output_type": "stream",
     "text": [
      "<class 'pandas.core.frame.DataFrame'>\n",
      "RangeIndex: 80000 entries, 0 to 79999\n",
      "Data columns (total 10 columns):\n",
      " #   Column                      Non-Null Count  Dtype  \n",
      "---  ------                      --------------  -----  \n",
      " 0   ID                          80000 non-null  int64  \n",
      " 1   Insects                     80000 non-null  int64  \n",
      " 2   Crop                        80000 non-null  object \n",
      " 3   Soil                        80000 non-null  object \n",
      " 4   Category_of_Toxicant        80000 non-null  int64  \n",
      " 5   Does_count                  80000 non-null  int64  \n",
      " 6   Number_of_Weeks_Used        71945 non-null  float64\n",
      " 7   Number_Weeks_does_not used  80000 non-null  int64  \n",
      " 8   Season                      80000 non-null  int64  \n",
      " 9   Crop_status                 80000 non-null  int64  \n",
      "dtypes: float64(1), int64(7), object(2)\n",
      "memory usage: 6.1+ MB\n"
     ]
    }
   ],
   "source": [
    "crop.info()"
   ]
  },
  {
   "cell_type": "code",
   "execution_count": 130,
   "metadata": {},
   "outputs": [
    {
     "data": {
      "text/plain": [
       "ID                            0.000000\n",
       "Insects                       0.000000\n",
       "Crop                          0.000000\n",
       "Soil                          0.000000\n",
       "Category_of_Toxicant          0.000000\n",
       "Does_count                    0.000000\n",
       "Number_of_Weeks_Used          0.100687\n",
       "Number_Weeks_does_not used    0.000000\n",
       "Season                        0.000000\n",
       "Crop_status                   0.000000\n",
       "dtype: float64"
      ]
     },
     "execution_count": 130,
     "metadata": {},
     "output_type": "execute_result"
    }
   ],
   "source": [
    "crop.isnull().mean()"
   ]
  },
  {
   "cell_type": "code",
   "execution_count": 131,
   "metadata": {},
   "outputs": [],
   "source": [
    "crop['is_train'] = 1\n",
    "crop_test['is_train'] = 0"
   ]
  },
  {
   "cell_type": "code",
   "execution_count": 7,
   "metadata": {},
   "outputs": [
    {
     "data": {
      "text/plain": [
       "<matplotlib.axes._subplots.AxesSubplot at 0x172ff13bfc8>"
      ]
     },
     "execution_count": 7,
     "metadata": {},
     "output_type": "execute_result"
    },
    {
     "data": {
      "image/png": "[encoded data removed]",
      "text/plain": [
       "<Figure size 432x288 with 1 Axes>"
      ]
     },
     "metadata": {
      "needs_background": "light"
     },
     "output_type": "display_data"
    }
   ],
   "source": [
    "sns.lineplot(crop.ID.loc[0:1000] , crop.Insects.loc[0:1000])"
   ]
  },
  {
   "cell_type": "code",
   "execution_count": 8,
   "metadata": {},
   "outputs": [
    {
     "data": {
      "text/plain": [
       "<matplotlib.axes._subplots.AxesSubplot at 0x17280d48308>"
      ]
     },
     "execution_count": 8,
     "metadata": {},
     "output_type": "execute_result"
    },
    {
     "data": {
      "image/png": "[encoded data removed]",
      "text/plain": [
       "<Figure size 432x288 with 1 Axes>"
      ]
     },
     "metadata": {
      "needs_background": "light"
     },
     "output_type": "display_data"
    }
   ],
   "source": [
    "sns.lineplot(crop.ID.loc[0:500] , crop.Number_of_Weeks_Used.loc[0:500])"
   ]
  },
  {
   "cell_type": "code",
   "execution_count": 9,
   "metadata": {},
   "outputs": [
    {
     "data": {
      "text/plain": [
       "<matplotlib.axes._subplots.AxesSubplot at 0x17280d48388>"
      ]
     },
     "execution_count": 9,
     "metadata": {},
     "output_type": "execute_result"
    },
    {
     "data": {
      "image/png": "[encoded data removed]",
      "text/plain": [
       "<Figure size 432x288 with 1 Axes>"
      ]
     },
     "metadata": {
      "needs_background": "light"
     },
     "output_type": "display_data"
    }
   ],
   "source": [
    "sns.lineplot(crop.ID.loc[0:2000] , crop['Number_Weeks_does_not used'].loc[0:2000])"
   ]
  },
  {
   "cell_type": "code",
   "execution_count": 10,
   "metadata": {},
   "outputs": [
    {
     "data": {
      "text/plain": [
       "<matplotlib.axes._subplots.AxesSubplot at 0x17280df8888>"
      ]
     },
     "execution_count": 10,
     "metadata": {},
     "output_type": "execute_result"
    },
    {
     "data": {
      "image/png": "[encoded data removed]",
      "text/plain": [
       "<Figure size 432x288 with 1 Axes>"
      ]
     },
     "metadata": {
      "needs_background": "light"
     },
     "output_type": "display_data"
    }
   ],
   "source": [
    "sns.lineplot(crop.ID.loc[0:500] , crop['Does_count'].loc[0:500])"
   ]
  },
  {
   "cell_type": "code",
   "execution_count": 163,
   "metadata": {},
   "outputs": [
    {
     "data": {
      "text/html": [
       "<div>\n",
       "<style scoped>\n",
       "    .dataframe tbody tr th:only-of-type {\n",
       "        vertical-align: middle;\n",
       "    }\n",
       "\n",
       "    .dataframe tbody tr th {\n",
       "        vertical-align: top;\n",
       "    }\n",
       "\n",
       "    .dataframe thead th {\n",
       "        text-align: right;\n",
       "    }\n",
       "</style>\n",
       "<table border=\"1\" class=\"dataframe\">\n",
       "  <thead>\n",
       "    <tr style=\"text-align: right;\">\n",
       "      <th></th>\n",
       "      <th>ID</th>\n",
       "      <th>Insects</th>\n",
       "      <th>Crop</th>\n",
       "      <th>Soil</th>\n",
       "      <th>Category_of_Toxicant</th>\n",
       "      <th>Does_count</th>\n",
       "      <th>Number_of_Weeks_Used</th>\n",
       "      <th>Number_Weeks_does_not used</th>\n",
       "      <th>Season</th>\n",
       "      <th>Crop_status</th>\n",
       "      <th>is_train</th>\n",
       "    </tr>\n",
       "  </thead>\n",
       "  <tbody>\n",
       "    <tr>\n",
       "      <th>0</th>\n",
       "      <td>1</td>\n",
       "      <td>188</td>\n",
       "      <td>Feed</td>\n",
       "      <td>clay</td>\n",
       "      <td>1</td>\n",
       "      <td>0</td>\n",
       "      <td>0.0</td>\n",
       "      <td>0</td>\n",
       "      <td>1</td>\n",
       "      <td>0.0</td>\n",
       "      <td>1</td>\n",
       "    </tr>\n",
       "    <tr>\n",
       "      <th>1</th>\n",
       "      <td>2</td>\n",
       "      <td>209</td>\n",
       "      <td>Feed</td>\n",
       "      <td>clay</td>\n",
       "      <td>1</td>\n",
       "      <td>0</td>\n",
       "      <td>0.0</td>\n",
       "      <td>0</td>\n",
       "      <td>2</td>\n",
       "      <td>1.0</td>\n",
       "      <td>1</td>\n",
       "    </tr>\n",
       "  </tbody>\n",
       "</table>\n",
       "</div>"
      ],
      "text/plain": [
       "   ID  Insects  Crop  Soil  Category_of_Toxicant  Does_count  \\\n",
       "0   1      188  Feed  clay                     1           0   \n",
       "1   2      209  Feed  clay                     1           0   \n",
       "\n",
       "   Number_of_Weeks_Used  Number_Weeks_does_not used  Season  Crop_status  \\\n",
       "0                   0.0                           0       1          0.0   \n",
       "1                   0.0                           0       2          1.0   \n",
       "\n",
       "   is_train  \n",
       "0         1  \n",
       "1         1  "
      ]
     },
     "execution_count": 163,
     "metadata": {},
     "output_type": "execute_result"
    }
   ],
   "source": [
    "full_df = pd.concat([crop,crop_test] , axis = 0 , ignore_index = True)\n",
    "full_df.head(2)"
   ]
  },
  {
   "cell_type": "markdown",
   "metadata": {},
   "source": [
    "## Categorical Variables"
   ]
  },
  {
   "cell_type": "code",
   "execution_count": 164,
   "metadata": {},
   "outputs": [],
   "source": [
    "cat = ['Category_of_Toxicant' , 'Season' , 'Crop_status','Crop' ,'Soil']"
   ]
  },
  {
   "cell_type": "code",
   "execution_count": 165,
   "metadata": {},
   "outputs": [
    {
     "name": "stdout",
     "output_type": "stream",
     "text": [
      "The feature is  Category_of_Toxicant  And the no. of categories are  3\n",
      "2    81953\n",
      "3    31926\n",
      "1     1121\n",
      "Name: Category_of_Toxicant, dtype: int64\n",
      "The feature is  Season  And the no. of categories are  3\n",
      "2    57147\n",
      "1    34770\n",
      "3    23083\n",
      "Name: Season, dtype: int64\n",
      "The feature is  Crop_status  And the no. of categories are  4\n",
      "0.0    66716\n",
      "1.0    11183\n",
      "2.0     2101\n",
      "Name: Crop_status, dtype: int64\n",
      "The feature is  Crop  And the no. of categories are  2\n",
      "Food    82374\n",
      "Feed    32626\n",
      "Name: Crop, dtype: int64\n",
      "The feature is  Soil  And the no. of categories are  2\n",
      "clay    62655\n",
      "silt    52345\n",
      "Name: Soil, dtype: int64\n"
     ]
    }
   ],
   "source": [
    "# Check for cardinality\n",
    "# How many categories each feature is having.\n",
    "for cols in cat:\n",
    "    print(\"The feature is \",cols,\" And the no. of categories are \",len(full_df[cols].unique()))\n",
    "    print(full_df[cols].value_counts())"
   ]
  },
  {
   "cell_type": "code",
   "execution_count": 166,
   "metadata": {},
   "outputs": [],
   "source": [
    "# Missing values treatment\n",
    "# ************************\n",
    "\n",
    "mean2 = round(crop['Number_of_Weeks_Used'][crop.Category_of_Toxicant == 2].mean(),3)\n",
    "mean3 = round(crop['Number_of_Weeks_Used'][crop.Category_of_Toxicant == 3].mean(),3)\n",
    "\n",
    "\n",
    "full_df['Number_of_Weeks_Used'][full_df.Category_of_Toxicant == 1] = full_df['Number_of_Weeks_Used'][full_df.Category_of_Toxicant == 1].fillna(0)\n",
    "full_df['Number_of_Weeks_Used'][full_df.Category_of_Toxicant == 2] = full_df['Number_of_Weeks_Used'][full_df.Category_of_Toxicant == 2].fillna(mean2)\n",
    "full_df['Number_of_Weeks_Used'][full_df.Category_of_Toxicant == 3] = full_df['Number_of_Weeks_Used'][full_df.Category_of_Toxicant == 3].fillna(mean3)"
   ]
  },
  {
   "cell_type": "code",
   "execution_count": null,
   "metadata": {},
   "outputs": [],
   "source": [
    "# Label Encoding\n",
    "features = ['Crop','Soil']\n",
    "le = LabelEncoder()\n",
    "full_df[features] = full_df[features].apply(le.fit_transform)"
   ]
  },
  {
   "cell_type": "code",
   "execution_count": 135,
   "metadata": {},
   "outputs": [],
   "source": [
    "# Mean Encoding\n",
    "\n",
    "def mean_enc(dataframe,train,feature,Tar_feature):\n",
    "    enc = train.groupby([feature])[Tar_feature].mean().to_dict()\n",
    "    dataframe[feature] = dataframe[feature].map(enc)\n",
    "    return dataframe"
   ]
  },
  {
   "cell_type": "code",
   "execution_count": 136,
   "metadata": {},
   "outputs": [],
   "source": [
    "for i in ['Crop','Soil']:\n",
    "    full_df = mean_enc(full_df , crop , i , 'Crop_status')"
   ]
  },
  {
   "cell_type": "code",
   "execution_count": 167,
   "metadata": {},
   "outputs": [],
   "source": [
    "full_df.Crop.replace({'Food':1,'Feed':0},inplace = True)\n",
    "full_df.Soil.replace({'clay':1,'silt':0},inplace = True)"
   ]
  },
  {
   "cell_type": "code",
   "execution_count": 168,
   "metadata": {},
   "outputs": [
    {
     "data": {
      "text/html": [
       "<div>\n",
       "<style scoped>\n",
       "    .dataframe tbody tr th:only-of-type {\n",
       "        vertical-align: middle;\n",
       "    }\n",
       "\n",
       "    .dataframe tbody tr th {\n",
       "        vertical-align: top;\n",
       "    }\n",
       "\n",
       "    .dataframe thead th {\n",
       "        text-align: right;\n",
       "    }\n",
       "</style>\n",
       "<table border=\"1\" class=\"dataframe\">\n",
       "  <thead>\n",
       "    <tr style=\"text-align: right;\">\n",
       "      <th></th>\n",
       "      <th>ID</th>\n",
       "      <th>Insects</th>\n",
       "      <th>Crop</th>\n",
       "      <th>Soil</th>\n",
       "      <th>Category_of_Toxicant</th>\n",
       "      <th>Does_count</th>\n",
       "      <th>Number_of_Weeks_Used</th>\n",
       "      <th>Number_Weeks_does_not used</th>\n",
       "      <th>Season</th>\n",
       "      <th>Crop_status</th>\n",
       "      <th>is_train</th>\n",
       "    </tr>\n",
       "  </thead>\n",
       "  <tbody>\n",
       "    <tr>\n",
       "      <th>0</th>\n",
       "      <td>1</td>\n",
       "      <td>188</td>\n",
       "      <td>0</td>\n",
       "      <td>1</td>\n",
       "      <td>1</td>\n",
       "      <td>0</td>\n",
       "      <td>0.0</td>\n",
       "      <td>0</td>\n",
       "      <td>1</td>\n",
       "      <td>0.0</td>\n",
       "      <td>1</td>\n",
       "    </tr>\n",
       "    <tr>\n",
       "      <th>1</th>\n",
       "      <td>2</td>\n",
       "      <td>209</td>\n",
       "      <td>0</td>\n",
       "      <td>1</td>\n",
       "      <td>1</td>\n",
       "      <td>0</td>\n",
       "      <td>0.0</td>\n",
       "      <td>0</td>\n",
       "      <td>2</td>\n",
       "      <td>1.0</td>\n",
       "      <td>1</td>\n",
       "    </tr>\n",
       "    <tr>\n",
       "      <th>2</th>\n",
       "      <td>3</td>\n",
       "      <td>257</td>\n",
       "      <td>0</td>\n",
       "      <td>1</td>\n",
       "      <td>1</td>\n",
       "      <td>0</td>\n",
       "      <td>0.0</td>\n",
       "      <td>0</td>\n",
       "      <td>2</td>\n",
       "      <td>1.0</td>\n",
       "      <td>1</td>\n",
       "    </tr>\n",
       "    <tr>\n",
       "      <th>3</th>\n",
       "      <td>4</td>\n",
       "      <td>257</td>\n",
       "      <td>0</td>\n",
       "      <td>0</td>\n",
       "      <td>1</td>\n",
       "      <td>0</td>\n",
       "      <td>0.0</td>\n",
       "      <td>0</td>\n",
       "      <td>2</td>\n",
       "      <td>1.0</td>\n",
       "      <td>1</td>\n",
       "    </tr>\n",
       "    <tr>\n",
       "      <th>4</th>\n",
       "      <td>5</td>\n",
       "      <td>342</td>\n",
       "      <td>0</td>\n",
       "      <td>1</td>\n",
       "      <td>1</td>\n",
       "      <td>0</td>\n",
       "      <td>0.0</td>\n",
       "      <td>0</td>\n",
       "      <td>2</td>\n",
       "      <td>1.0</td>\n",
       "      <td>1</td>\n",
       "    </tr>\n",
       "  </tbody>\n",
       "</table>\n",
       "</div>"
      ],
      "text/plain": [
       "   ID  Insects  Crop  Soil  Category_of_Toxicant  Does_count  \\\n",
       "0   1      188     0     1                     1           0   \n",
       "1   2      209     0     1                     1           0   \n",
       "2   3      257     0     1                     1           0   \n",
       "3   4      257     0     0                     1           0   \n",
       "4   5      342     0     1                     1           0   \n",
       "\n",
       "   Number_of_Weeks_Used  Number_Weeks_does_not used  Season  Crop_status  \\\n",
       "0                   0.0                           0       1          0.0   \n",
       "1                   0.0                           0       2          1.0   \n",
       "2                   0.0                           0       2          1.0   \n",
       "3                   0.0                           0       2          1.0   \n",
       "4                   0.0                           0       2          1.0   \n",
       "\n",
       "   is_train  \n",
       "0         1  \n",
       "1         1  \n",
       "2         1  \n",
       "3         1  \n",
       "4         1  "
      ]
     },
     "execution_count": 168,
     "metadata": {},
     "output_type": "execute_result"
    }
   ],
   "source": [
    "full_df.head(5)"
   ]
  },
  {
   "cell_type": "code",
   "execution_count": 169,
   "metadata": {},
   "outputs": [
    {
     "data": {
      "text/plain": [
       "(1    82374\n",
       " 0    32626\n",
       " Name: Crop, dtype: int64,\n",
       " 1    62655\n",
       " 0    52345\n",
       " Name: Soil, dtype: int64)"
      ]
     },
     "execution_count": 169,
     "metadata": {},
     "output_type": "execute_result"
    }
   ],
   "source": [
    "full_df.Crop.value_counts() , full_df.Soil.value_counts()"
   ]
  },
  {
   "cell_type": "code",
   "execution_count": 170,
   "metadata": {},
   "outputs": [
    {
     "data": {
      "text/plain": [
       "10"
      ]
     },
     "execution_count": 170,
     "metadata": {},
     "output_type": "execute_result"
    }
   ],
   "source": [
    "full_df.columns.get_loc('is_train')"
   ]
  },
  {
   "cell_type": "code",
   "execution_count": 98,
   "metadata": {},
   "outputs": [],
   "source": [
    "new = full_df.copy()"
   ]
  },
  {
   "cell_type": "code",
   "execution_count": 19,
   "metadata": {},
   "outputs": [
    {
     "data": {
      "text/plain": [
       "348"
      ]
     },
     "execution_count": 19,
     "metadata": {},
     "output_type": "execute_result"
    }
   ],
   "source": [
    "sets = []\n",
    "subset = []\n",
    "for i in range(0,len(full_df)):\n",
    "    if i == 0:\n",
    "        subset.append(i)\n",
    "    elif(np.abs(full_df.Insects.loc[i] - full_df.Insects.loc[i-1]))<700:\n",
    "        subset.append(i)\n",
    "    else:\n",
    "        sets.append(subset)\n",
    "        subset = []\n",
    "        subset.append(i)\n",
    "        \n",
    "len(sets)"
   ]
  },
  {
   "cell_type": "code",
   "execution_count": 44,
   "metadata": {},
   "outputs": [
    {
     "name": "stdout",
     "output_type": "stream",
     "text": [
      "(114857, 32)\n"
     ]
    },
    {
     "data": {
      "text/html": [
       "<div>\n",
       "<style scoped>\n",
       "    .dataframe tbody tr th:only-of-type {\n",
       "        vertical-align: middle;\n",
       "    }\n",
       "\n",
       "    .dataframe tbody tr th {\n",
       "        vertical-align: top;\n",
       "    }\n",
       "\n",
       "    .dataframe thead th {\n",
       "        text-align: right;\n",
       "    }\n",
       "</style>\n",
       "<table border=\"1\" class=\"dataframe\">\n",
       "  <thead>\n",
       "    <tr style=\"text-align: right;\">\n",
       "      <th></th>\n",
       "      <th>Insects_lag1</th>\n",
       "      <th>Insects_lag1_MA</th>\n",
       "      <th>Insects_lag2</th>\n",
       "      <th>Insects_lag2_MA</th>\n",
       "      <th>Crop_lag1</th>\n",
       "      <th>Crop_lag1_MA</th>\n",
       "      <th>Crop_lag2</th>\n",
       "      <th>Crop_lag2_MA</th>\n",
       "      <th>Soil_lag1</th>\n",
       "      <th>Soil_lag1_MA</th>\n",
       "      <th>Soil_lag2</th>\n",
       "      <th>Soil_lag2_MA</th>\n",
       "      <th>Category_of_Toxicant_lag1</th>\n",
       "      <th>Category_of_Toxicant_lag1_MA</th>\n",
       "      <th>Category_of_Toxicant_lag2</th>\n",
       "      <th>Category_of_Toxicant_lag2_MA</th>\n",
       "      <th>Does_count_lag1</th>\n",
       "      <th>Does_count_lag1_MA</th>\n",
       "      <th>Does_count_lag2</th>\n",
       "      <th>Does_count_lag2_MA</th>\n",
       "      <th>Number_of_Weeks_Used_lag1</th>\n",
       "      <th>Number_of_Weeks_Used_lag1_MA</th>\n",
       "      <th>Number_of_Weeks_Used_lag2</th>\n",
       "      <th>Number_of_Weeks_Used_lag2_MA</th>\n",
       "      <th>Number_Weeks_does_not used_lag1</th>\n",
       "      <th>Number_Weeks_does_not used_lag1_MA</th>\n",
       "      <th>Number_Weeks_does_not used_lag2</th>\n",
       "      <th>Number_Weeks_does_not used_lag2_MA</th>\n",
       "      <th>Season_lag1</th>\n",
       "      <th>Season_lag1_MA</th>\n",
       "      <th>Season_lag2</th>\n",
       "      <th>Season_lag2_MA</th>\n",
       "    </tr>\n",
       "  </thead>\n",
       "  <tbody>\n",
       "    <tr>\n",
       "      <th>0</th>\n",
       "      <td>-99.0</td>\n",
       "      <td>-99.000000</td>\n",
       "      <td>-99.0</td>\n",
       "      <td>-99.0</td>\n",
       "      <td>-99.0</td>\n",
       "      <td>-99.0</td>\n",
       "      <td>-99.0</td>\n",
       "      <td>-99.0</td>\n",
       "      <td>-99.0</td>\n",
       "      <td>1.071429</td>\n",
       "      <td>-99.0</td>\n",
       "      <td>-99.0</td>\n",
       "      <td>-99.0</td>\n",
       "      <td>-99.0</td>\n",
       "      <td>-99.0</td>\n",
       "      <td>-99.0</td>\n",
       "      <td>-99.0</td>\n",
       "      <td>-99.0</td>\n",
       "      <td>-99.0</td>\n",
       "      <td>-99.0</td>\n",
       "      <td>-99.0</td>\n",
       "      <td>-99.0</td>\n",
       "      <td>-99.0</td>\n",
       "      <td>-99.0</td>\n",
       "      <td>-99.0</td>\n",
       "      <td>-99.0</td>\n",
       "      <td>-99.0</td>\n",
       "      <td>-99.0</td>\n",
       "      <td>-99.0</td>\n",
       "      <td>-99.000000</td>\n",
       "      <td>-99.0</td>\n",
       "      <td>-99.0</td>\n",
       "    </tr>\n",
       "    <tr>\n",
       "      <th>1</th>\n",
       "      <td>188.0</td>\n",
       "      <td>0.000000</td>\n",
       "      <td>-99.0</td>\n",
       "      <td>-99.0</td>\n",
       "      <td>0.0</td>\n",
       "      <td>-99.0</td>\n",
       "      <td>-99.0</td>\n",
       "      <td>-99.0</td>\n",
       "      <td>1.0</td>\n",
       "      <td>1.071429</td>\n",
       "      <td>-99.0</td>\n",
       "      <td>-99.0</td>\n",
       "      <td>1.0</td>\n",
       "      <td>-99.0</td>\n",
       "      <td>-99.0</td>\n",
       "      <td>-99.0</td>\n",
       "      <td>0.0</td>\n",
       "      <td>-99.0</td>\n",
       "      <td>-99.0</td>\n",
       "      <td>-99.0</td>\n",
       "      <td>0.0</td>\n",
       "      <td>-99.0</td>\n",
       "      <td>-99.0</td>\n",
       "      <td>-99.0</td>\n",
       "      <td>0.0</td>\n",
       "      <td>-99.0</td>\n",
       "      <td>-99.0</td>\n",
       "      <td>-99.0</td>\n",
       "      <td>1.0</td>\n",
       "      <td>1.142857</td>\n",
       "      <td>-99.0</td>\n",
       "      <td>-99.0</td>\n",
       "    </tr>\n",
       "    <tr>\n",
       "      <th>2</th>\n",
       "      <td>209.0</td>\n",
       "      <td>0.500000</td>\n",
       "      <td>188.0</td>\n",
       "      <td>0.0</td>\n",
       "      <td>0.0</td>\n",
       "      <td>-99.0</td>\n",
       "      <td>0.0</td>\n",
       "      <td>-99.0</td>\n",
       "      <td>1.0</td>\n",
       "      <td>1.071429</td>\n",
       "      <td>1.0</td>\n",
       "      <td>-99.0</td>\n",
       "      <td>1.0</td>\n",
       "      <td>-99.0</td>\n",
       "      <td>1.0</td>\n",
       "      <td>-99.0</td>\n",
       "      <td>0.0</td>\n",
       "      <td>-99.0</td>\n",
       "      <td>0.0</td>\n",
       "      <td>-99.0</td>\n",
       "      <td>0.0</td>\n",
       "      <td>-99.0</td>\n",
       "      <td>0.0</td>\n",
       "      <td>-99.0</td>\n",
       "      <td>0.0</td>\n",
       "      <td>-99.0</td>\n",
       "      <td>0.0</td>\n",
       "      <td>-99.0</td>\n",
       "      <td>2.0</td>\n",
       "      <td>1.142857</td>\n",
       "      <td>1.0</td>\n",
       "      <td>-99.0</td>\n",
       "    </tr>\n",
       "    <tr>\n",
       "      <th>3</th>\n",
       "      <td>257.0</td>\n",
       "      <td>0.500000</td>\n",
       "      <td>209.0</td>\n",
       "      <td>0.0</td>\n",
       "      <td>0.0</td>\n",
       "      <td>-99.0</td>\n",
       "      <td>0.0</td>\n",
       "      <td>-99.0</td>\n",
       "      <td>1.0</td>\n",
       "      <td>-99.000000</td>\n",
       "      <td>1.0</td>\n",
       "      <td>-99.0</td>\n",
       "      <td>1.0</td>\n",
       "      <td>-99.0</td>\n",
       "      <td>1.0</td>\n",
       "      <td>-99.0</td>\n",
       "      <td>0.0</td>\n",
       "      <td>-99.0</td>\n",
       "      <td>0.0</td>\n",
       "      <td>-99.0</td>\n",
       "      <td>0.0</td>\n",
       "      <td>-99.0</td>\n",
       "      <td>0.0</td>\n",
       "      <td>-99.0</td>\n",
       "      <td>0.0</td>\n",
       "      <td>-99.0</td>\n",
       "      <td>0.0</td>\n",
       "      <td>-99.0</td>\n",
       "      <td>2.0</td>\n",
       "      <td>1.142857</td>\n",
       "      <td>2.0</td>\n",
       "      <td>-99.0</td>\n",
       "    </tr>\n",
       "    <tr>\n",
       "      <th>4</th>\n",
       "      <td>257.0</td>\n",
       "      <td>0.666667</td>\n",
       "      <td>257.0</td>\n",
       "      <td>0.5</td>\n",
       "      <td>0.0</td>\n",
       "      <td>-99.0</td>\n",
       "      <td>0.0</td>\n",
       "      <td>-99.0</td>\n",
       "      <td>0.0</td>\n",
       "      <td>1.071429</td>\n",
       "      <td>1.0</td>\n",
       "      <td>-99.0</td>\n",
       "      <td>1.0</td>\n",
       "      <td>-99.0</td>\n",
       "      <td>1.0</td>\n",
       "      <td>-99.0</td>\n",
       "      <td>0.0</td>\n",
       "      <td>-99.0</td>\n",
       "      <td>0.0</td>\n",
       "      <td>-99.0</td>\n",
       "      <td>0.0</td>\n",
       "      <td>-99.0</td>\n",
       "      <td>0.0</td>\n",
       "      <td>-99.0</td>\n",
       "      <td>0.0</td>\n",
       "      <td>-99.0</td>\n",
       "      <td>0.0</td>\n",
       "      <td>-99.0</td>\n",
       "      <td>2.0</td>\n",
       "      <td>1.142857</td>\n",
       "      <td>2.0</td>\n",
       "      <td>-99.0</td>\n",
       "    </tr>\n",
       "  </tbody>\n",
       "</table>\n",
       "</div>"
      ],
      "text/plain": [
       "   Insects_lag1  Insects_lag1_MA  Insects_lag2  Insects_lag2_MA  Crop_lag1  \\\n",
       "0         -99.0       -99.000000         -99.0            -99.0      -99.0   \n",
       "1         188.0         0.000000         -99.0            -99.0        0.0   \n",
       "2         209.0         0.500000         188.0              0.0        0.0   \n",
       "3         257.0         0.500000         209.0              0.0        0.0   \n",
       "4         257.0         0.666667         257.0              0.5        0.0   \n",
       "\n",
       "   Crop_lag1_MA  Crop_lag2  Crop_lag2_MA  Soil_lag1  Soil_lag1_MA  Soil_lag2  \\\n",
       "0         -99.0      -99.0         -99.0      -99.0      1.071429      -99.0   \n",
       "1         -99.0      -99.0         -99.0        1.0      1.071429      -99.0   \n",
       "2         -99.0        0.0         -99.0        1.0      1.071429        1.0   \n",
       "3         -99.0        0.0         -99.0        1.0    -99.000000        1.0   \n",
       "4         -99.0        0.0         -99.0        0.0      1.071429        1.0   \n",
       "\n",
       "   Soil_lag2_MA  Category_of_Toxicant_lag1  Category_of_Toxicant_lag1_MA  \\\n",
       "0         -99.0                      -99.0                         -99.0   \n",
       "1         -99.0                        1.0                         -99.0   \n",
       "2         -99.0                        1.0                         -99.0   \n",
       "3         -99.0                        1.0                         -99.0   \n",
       "4         -99.0                        1.0                         -99.0   \n",
       "\n",
       "   Category_of_Toxicant_lag2  Category_of_Toxicant_lag2_MA  Does_count_lag1  \\\n",
       "0                      -99.0                         -99.0            -99.0   \n",
       "1                      -99.0                         -99.0              0.0   \n",
       "2                        1.0                         -99.0              0.0   \n",
       "3                        1.0                         -99.0              0.0   \n",
       "4                        1.0                         -99.0              0.0   \n",
       "\n",
       "   Does_count_lag1_MA  Does_count_lag2  Does_count_lag2_MA  \\\n",
       "0               -99.0            -99.0               -99.0   \n",
       "1               -99.0            -99.0               -99.0   \n",
       "2               -99.0              0.0               -99.0   \n",
       "3               -99.0              0.0               -99.0   \n",
       "4               -99.0              0.0               -99.0   \n",
       "\n",
       "   Number_of_Weeks_Used_lag1  Number_of_Weeks_Used_lag1_MA  \\\n",
       "0                      -99.0                         -99.0   \n",
       "1                        0.0                         -99.0   \n",
       "2                        0.0                         -99.0   \n",
       "3                        0.0                         -99.0   \n",
       "4                        0.0                         -99.0   \n",
       "\n",
       "   Number_of_Weeks_Used_lag2  Number_of_Weeks_Used_lag2_MA  \\\n",
       "0                      -99.0                         -99.0   \n",
       "1                      -99.0                         -99.0   \n",
       "2                        0.0                         -99.0   \n",
       "3                        0.0                         -99.0   \n",
       "4                        0.0                         -99.0   \n",
       "\n",
       "   Number_Weeks_does_not used_lag1  Number_Weeks_does_not used_lag1_MA  \\\n",
       "0                            -99.0                               -99.0   \n",
       "1                              0.0                               -99.0   \n",
       "2                              0.0                               -99.0   \n",
       "3                              0.0                               -99.0   \n",
       "4                              0.0                               -99.0   \n",
       "\n",
       "   Number_Weeks_does_not used_lag2  Number_Weeks_does_not used_lag2_MA  \\\n",
       "0                            -99.0                               -99.0   \n",
       "1                            -99.0                               -99.0   \n",
       "2                              0.0                               -99.0   \n",
       "3                              0.0                               -99.0   \n",
       "4                              0.0                               -99.0   \n",
       "\n",
       "   Season_lag1  Season_lag1_MA  Season_lag2  Season_lag2_MA  \n",
       "0        -99.0      -99.000000        -99.0           -99.0  \n",
       "1          1.0        1.142857        -99.0           -99.0  \n",
       "2          2.0        1.142857          1.0           -99.0  \n",
       "3          2.0        1.142857          2.0           -99.0  \n",
       "4          2.0        1.142857          2.0           -99.0  "
      ]
     },
     "execution_count": 44,
     "metadata": {},
     "output_type": "execute_result"
    }
   ],
   "source": [
    "# df = pd.DataFrame()\n",
    "# lag1 = pd.DataFrame()\n",
    "# lag1_MA = pd.DataFrame()\n",
    "# lag2 = pd.DataFrame()\n",
    "# lag2_MA = pd.DataFrame()\n",
    "\n",
    "# for col in list(full_df.columns):\n",
    "    \n",
    "#     if col not in ['ID','Crop_status','is_train']:\n",
    "        \n",
    "#         for i in range(0,len(sets)):\n",
    "            \n",
    "#             lag1 = pd.concat([lag1,full_df.loc[sets[i],col].shift().fillna(-99)],axis = 0)          \n",
    "            \n",
    "           \n",
    "#             b = dict(full_df.iloc[sets[i],:].groupby([col])['Crop_status'].mean().shift().rolling(5 , min_periods = 1).mean().fillna(-99))\n",
    "#             lag1_MA = pd.concat([lag1_MA,full_df.iloc[sets[i],:][col].map(b)],axis = 0)\n",
    "            \n",
    "            \n",
    "#             lag2 = pd.concat([lag2 ,full_df.loc[sets[i],col].shift(periods = 2).fillna(-99)],axis = 0)\n",
    "            \n",
    "            \n",
    "#             d = dict(full_df.iloc[sets[i],:].groupby([col])['Crop_status'].mean().shift(periods = 2).rolling(5 , min_periods = 1).mean().fillna(-99))\n",
    "#             lag2_MA = pd.concat([lag2_MA , full_df.iloc[sets[i],:][col].map(d)],axis = 0)\n",
    "            \n",
    "            \n",
    "#         df[col+'_lag1'] = lag1.values.reshape(len(lag1),)\n",
    "#         df[col+'_lag1_MA'] = lag1_MA.values.reshape(len(lag1_MA),)\n",
    "#         df[col+'_lag2'] = lag2.values.reshape(len(lag2),)\n",
    "#         df[col+'_lag2_MA'] = lag2_MA.values.reshape(len(lag2_MA),)\n",
    "#         lag1 = pd.DataFrame();lag1_MA = pd.DataFrame();lag2 = pd.DataFrame();lag2_MA = pd.DataFrame()\n",
    "# print(df.shape)\n",
    "# df.head()"
   ]
  },
  {
   "cell_type": "code",
   "execution_count": 49,
   "metadata": {},
   "outputs": [],
   "source": [
    "new = pd.concat([new,df],axis = 1)"
   ]
  },
  {
   "cell_type": "code",
   "execution_count": 171,
   "metadata": {},
   "outputs": [
    {
     "data": {
      "text/html": [
       "<div>\n",
       "<style scoped>\n",
       "    .dataframe tbody tr th:only-of-type {\n",
       "        vertical-align: middle;\n",
       "    }\n",
       "\n",
       "    .dataframe tbody tr th {\n",
       "        vertical-align: top;\n",
       "    }\n",
       "\n",
       "    .dataframe thead th {\n",
       "        text-align: right;\n",
       "    }\n",
       "</style>\n",
       "<table border=\"1\" class=\"dataframe\">\n",
       "  <thead>\n",
       "    <tr style=\"text-align: right;\">\n",
       "      <th></th>\n",
       "      <th>ID</th>\n",
       "      <th>Insects</th>\n",
       "      <th>Crop</th>\n",
       "      <th>Soil</th>\n",
       "      <th>Category_of_Toxicant</th>\n",
       "      <th>Does_count</th>\n",
       "      <th>Number_of_Weeks_Used</th>\n",
       "      <th>Number_Weeks_does_not used</th>\n",
       "      <th>Season</th>\n",
       "      <th>Crop_status</th>\n",
       "      <th>is_train</th>\n",
       "      <th>Insects_lag1</th>\n",
       "      <th>Insects_lag1_MA</th>\n",
       "      <th>Insects_lag1_MA_y</th>\n",
       "      <th>Insects_lag2</th>\n",
       "      <th>Insects_lag2_MA</th>\n",
       "      <th>Insects_lag2_MA_y</th>\n",
       "      <th>Crop_lag1</th>\n",
       "      <th>Crop_lag1_MA</th>\n",
       "      <th>Crop_lag1_MA_y</th>\n",
       "      <th>Crop_lag2</th>\n",
       "      <th>Crop_lag2_MA</th>\n",
       "      <th>Crop_lag2_MA_y</th>\n",
       "      <th>Soil_lag1</th>\n",
       "      <th>Soil_lag1_MA</th>\n",
       "      <th>Soil_lag1_MA_y</th>\n",
       "      <th>Soil_lag2</th>\n",
       "      <th>Soil_lag2_MA</th>\n",
       "      <th>Soil_lag2_MA_y</th>\n",
       "      <th>Category_of_Toxicant_lag1</th>\n",
       "      <th>Category_of_Toxicant_lag1_MA</th>\n",
       "      <th>Category_of_Toxicant_lag1_MA_y</th>\n",
       "      <th>Category_of_Toxicant_lag2</th>\n",
       "      <th>Category_of_Toxicant_lag2_MA</th>\n",
       "      <th>Category_of_Toxicant_lag2_MA_y</th>\n",
       "      <th>Does_count_lag1</th>\n",
       "      <th>Does_count_lag1_MA</th>\n",
       "      <th>Does_count_lag1_MA_y</th>\n",
       "      <th>Does_count_lag2</th>\n",
       "      <th>Does_count_lag2_MA</th>\n",
       "      <th>Does_count_lag2_MA_y</th>\n",
       "      <th>Number_of_Weeks_Used_lag1</th>\n",
       "      <th>Number_of_Weeks_Used_lag1_MA</th>\n",
       "      <th>Number_of_Weeks_Used_lag1_MA_y</th>\n",
       "      <th>Number_of_Weeks_Used_lag2</th>\n",
       "      <th>Number_of_Weeks_Used_lag2_MA</th>\n",
       "      <th>Number_of_Weeks_Used_lag2_MA_y</th>\n",
       "      <th>Number_Weeks_does_not used_lag1</th>\n",
       "      <th>Number_Weeks_does_not used_lag1_MA</th>\n",
       "      <th>Number_Weeks_does_not used_lag1_MA_y</th>\n",
       "      <th>Number_Weeks_does_not used_lag2</th>\n",
       "      <th>Number_Weeks_does_not used_lag2_MA</th>\n",
       "      <th>Number_Weeks_does_not used_lag2_MA_y</th>\n",
       "      <th>Season_lag1</th>\n",
       "      <th>Season_lag1_MA</th>\n",
       "      <th>Season_lag1_MA_y</th>\n",
       "      <th>Season_lag2</th>\n",
       "      <th>Season_lag2_MA</th>\n",
       "      <th>Season_lag2_MA_y</th>\n",
       "      <th>CSS_lag1_MA_y</th>\n",
       "      <th>CSS_lag2_MA_y</th>\n",
       "    </tr>\n",
       "  </thead>\n",
       "  <tbody>\n",
       "    <tr>\n",
       "      <th>0</th>\n",
       "      <td>1</td>\n",
       "      <td>188</td>\n",
       "      <td>0</td>\n",
       "      <td>1</td>\n",
       "      <td>1</td>\n",
       "      <td>0</td>\n",
       "      <td>0.0</td>\n",
       "      <td>0</td>\n",
       "      <td>1</td>\n",
       "      <td>0.0</td>\n",
       "      <td>1</td>\n",
       "      <td>-99.0</td>\n",
       "      <td>-99.0</td>\n",
       "      <td>0.036745</td>\n",
       "      <td>-99.0</td>\n",
       "      <td>-99.0</td>\n",
       "      <td>0.027196</td>\n",
       "      <td>-99.0</td>\n",
       "      <td>-99.0</td>\n",
       "      <td>-99.0</td>\n",
       "      <td>-99.0</td>\n",
       "      <td>-99.0</td>\n",
       "      <td>-99.0</td>\n",
       "      <td>-99.0</td>\n",
       "      <td>-99.0</td>\n",
       "      <td>-99.0</td>\n",
       "      <td>-99.0</td>\n",
       "      <td>-99.0</td>\n",
       "      <td>-99.0</td>\n",
       "      <td>-99.0</td>\n",
       "      <td>-99.0</td>\n",
       "      <td>-99.0</td>\n",
       "      <td>-99.0</td>\n",
       "      <td>-99.0</td>\n",
       "      <td>-99.0</td>\n",
       "      <td>-99.0</td>\n",
       "      <td>-99.0</td>\n",
       "      <td>-99.0</td>\n",
       "      <td>-99.0</td>\n",
       "      <td>-99.0</td>\n",
       "      <td>-99.0</td>\n",
       "      <td>-99.0</td>\n",
       "      <td>-99.0</td>\n",
       "      <td>-99.0</td>\n",
       "      <td>-99.0</td>\n",
       "      <td>-99.0</td>\n",
       "      <td>-99.0</td>\n",
       "      <td>-99.0</td>\n",
       "      <td>-99.0</td>\n",
       "      <td>-99.0</td>\n",
       "      <td>-99.0</td>\n",
       "      <td>-99.0</td>\n",
       "      <td>-99.0</td>\n",
       "      <td>-99.0</td>\n",
       "      <td>-99.0</td>\n",
       "      <td>-99.0</td>\n",
       "      <td>-99.0</td>\n",
       "      <td>-99.0</td>\n",
       "      <td>-99.0</td>\n",
       "      <td>-99.0</td>\n",
       "      <td>-99.0</td>\n",
       "    </tr>\n",
       "    <tr>\n",
       "      <th>1</th>\n",
       "      <td>2</td>\n",
       "      <td>209</td>\n",
       "      <td>0</td>\n",
       "      <td>1</td>\n",
       "      <td>1</td>\n",
       "      <td>0</td>\n",
       "      <td>0.0</td>\n",
       "      <td>0</td>\n",
       "      <td>2</td>\n",
       "      <td>1.0</td>\n",
       "      <td>1</td>\n",
       "      <td>188.0</td>\n",
       "      <td>-99.0</td>\n",
       "      <td>0.031286</td>\n",
       "      <td>-99.0</td>\n",
       "      <td>-99.0</td>\n",
       "      <td>0.036745</td>\n",
       "      <td>0.0</td>\n",
       "      <td>-99.0</td>\n",
       "      <td>-99.0</td>\n",
       "      <td>-99.0</td>\n",
       "      <td>-99.0</td>\n",
       "      <td>-99.0</td>\n",
       "      <td>1.0</td>\n",
       "      <td>-99.0</td>\n",
       "      <td>-99.0</td>\n",
       "      <td>-99.0</td>\n",
       "      <td>-99.0</td>\n",
       "      <td>-99.0</td>\n",
       "      <td>1.0</td>\n",
       "      <td>-99.0</td>\n",
       "      <td>-99.0</td>\n",
       "      <td>-99.0</td>\n",
       "      <td>-99.0</td>\n",
       "      <td>-99.0</td>\n",
       "      <td>0.0</td>\n",
       "      <td>-99.0</td>\n",
       "      <td>-99.0</td>\n",
       "      <td>-99.0</td>\n",
       "      <td>-99.0</td>\n",
       "      <td>-99.0</td>\n",
       "      <td>0.0</td>\n",
       "      <td>-99.0</td>\n",
       "      <td>-99.0</td>\n",
       "      <td>-99.0</td>\n",
       "      <td>-99.0</td>\n",
       "      <td>-99.0</td>\n",
       "      <td>0.0</td>\n",
       "      <td>-99.0</td>\n",
       "      <td>-99.0</td>\n",
       "      <td>-99.0</td>\n",
       "      <td>-99.0</td>\n",
       "      <td>-99.0</td>\n",
       "      <td>1.0</td>\n",
       "      <td>-99.0</td>\n",
       "      <td>-99.0</td>\n",
       "      <td>-99.0</td>\n",
       "      <td>-99.0</td>\n",
       "      <td>-99.0</td>\n",
       "      <td>-99.0</td>\n",
       "      <td>-99.0</td>\n",
       "    </tr>\n",
       "    <tr>\n",
       "      <th>2</th>\n",
       "      <td>3</td>\n",
       "      <td>257</td>\n",
       "      <td>0</td>\n",
       "      <td>1</td>\n",
       "      <td>1</td>\n",
       "      <td>0</td>\n",
       "      <td>0.0</td>\n",
       "      <td>0</td>\n",
       "      <td>2</td>\n",
       "      <td>1.0</td>\n",
       "      <td>1</td>\n",
       "      <td>209.0</td>\n",
       "      <td>-99.0</td>\n",
       "      <td>0.041402</td>\n",
       "      <td>188.0</td>\n",
       "      <td>-99.0</td>\n",
       "      <td>0.024708</td>\n",
       "      <td>0.0</td>\n",
       "      <td>-99.0</td>\n",
       "      <td>-99.0</td>\n",
       "      <td>0.0</td>\n",
       "      <td>-99.0</td>\n",
       "      <td>-99.0</td>\n",
       "      <td>1.0</td>\n",
       "      <td>-99.0</td>\n",
       "      <td>-99.0</td>\n",
       "      <td>1.0</td>\n",
       "      <td>-99.0</td>\n",
       "      <td>-99.0</td>\n",
       "      <td>1.0</td>\n",
       "      <td>-99.0</td>\n",
       "      <td>-99.0</td>\n",
       "      <td>1.0</td>\n",
       "      <td>-99.0</td>\n",
       "      <td>-99.0</td>\n",
       "      <td>0.0</td>\n",
       "      <td>-99.0</td>\n",
       "      <td>-99.0</td>\n",
       "      <td>0.0</td>\n",
       "      <td>-99.0</td>\n",
       "      <td>-99.0</td>\n",
       "      <td>0.0</td>\n",
       "      <td>-99.0</td>\n",
       "      <td>-99.0</td>\n",
       "      <td>0.0</td>\n",
       "      <td>-99.0</td>\n",
       "      <td>-99.0</td>\n",
       "      <td>0.0</td>\n",
       "      <td>-99.0</td>\n",
       "      <td>-99.0</td>\n",
       "      <td>0.0</td>\n",
       "      <td>-99.0</td>\n",
       "      <td>-99.0</td>\n",
       "      <td>2.0</td>\n",
       "      <td>-99.0</td>\n",
       "      <td>-99.0</td>\n",
       "      <td>1.0</td>\n",
       "      <td>-99.0</td>\n",
       "      <td>-99.0</td>\n",
       "      <td>-99.0</td>\n",
       "      <td>-99.0</td>\n",
       "    </tr>\n",
       "    <tr>\n",
       "      <th>3</th>\n",
       "      <td>4</td>\n",
       "      <td>257</td>\n",
       "      <td>0</td>\n",
       "      <td>0</td>\n",
       "      <td>1</td>\n",
       "      <td>0</td>\n",
       "      <td>0.0</td>\n",
       "      <td>0</td>\n",
       "      <td>2</td>\n",
       "      <td>1.0</td>\n",
       "      <td>1</td>\n",
       "      <td>257.0</td>\n",
       "      <td>-99.0</td>\n",
       "      <td>0.041402</td>\n",
       "      <td>209.0</td>\n",
       "      <td>-99.0</td>\n",
       "      <td>0.024708</td>\n",
       "      <td>0.0</td>\n",
       "      <td>-99.0</td>\n",
       "      <td>-99.0</td>\n",
       "      <td>0.0</td>\n",
       "      <td>-99.0</td>\n",
       "      <td>-99.0</td>\n",
       "      <td>1.0</td>\n",
       "      <td>-99.0</td>\n",
       "      <td>-99.0</td>\n",
       "      <td>1.0</td>\n",
       "      <td>-99.0</td>\n",
       "      <td>-99.0</td>\n",
       "      <td>1.0</td>\n",
       "      <td>-99.0</td>\n",
       "      <td>-99.0</td>\n",
       "      <td>1.0</td>\n",
       "      <td>-99.0</td>\n",
       "      <td>-99.0</td>\n",
       "      <td>0.0</td>\n",
       "      <td>-99.0</td>\n",
       "      <td>-99.0</td>\n",
       "      <td>0.0</td>\n",
       "      <td>-99.0</td>\n",
       "      <td>-99.0</td>\n",
       "      <td>0.0</td>\n",
       "      <td>-99.0</td>\n",
       "      <td>-99.0</td>\n",
       "      <td>0.0</td>\n",
       "      <td>-99.0</td>\n",
       "      <td>-99.0</td>\n",
       "      <td>0.0</td>\n",
       "      <td>-99.0</td>\n",
       "      <td>-99.0</td>\n",
       "      <td>0.0</td>\n",
       "      <td>-99.0</td>\n",
       "      <td>-99.0</td>\n",
       "      <td>2.0</td>\n",
       "      <td>-99.0</td>\n",
       "      <td>-99.0</td>\n",
       "      <td>2.0</td>\n",
       "      <td>-99.0</td>\n",
       "      <td>-99.0</td>\n",
       "      <td>-99.0</td>\n",
       "      <td>-99.0</td>\n",
       "    </tr>\n",
       "    <tr>\n",
       "      <th>4</th>\n",
       "      <td>5</td>\n",
       "      <td>342</td>\n",
       "      <td>0</td>\n",
       "      <td>1</td>\n",
       "      <td>1</td>\n",
       "      <td>0</td>\n",
       "      <td>0.0</td>\n",
       "      <td>0</td>\n",
       "      <td>2</td>\n",
       "      <td>1.0</td>\n",
       "      <td>1</td>\n",
       "      <td>257.0</td>\n",
       "      <td>-99.0</td>\n",
       "      <td>0.056619</td>\n",
       "      <td>257.0</td>\n",
       "      <td>-99.0</td>\n",
       "      <td>0.053520</td>\n",
       "      <td>0.0</td>\n",
       "      <td>-99.0</td>\n",
       "      <td>-99.0</td>\n",
       "      <td>0.0</td>\n",
       "      <td>-99.0</td>\n",
       "      <td>-99.0</td>\n",
       "      <td>0.0</td>\n",
       "      <td>-99.0</td>\n",
       "      <td>-99.0</td>\n",
       "      <td>1.0</td>\n",
       "      <td>-99.0</td>\n",
       "      <td>-99.0</td>\n",
       "      <td>1.0</td>\n",
       "      <td>-99.0</td>\n",
       "      <td>-99.0</td>\n",
       "      <td>1.0</td>\n",
       "      <td>-99.0</td>\n",
       "      <td>-99.0</td>\n",
       "      <td>0.0</td>\n",
       "      <td>-99.0</td>\n",
       "      <td>-99.0</td>\n",
       "      <td>0.0</td>\n",
       "      <td>-99.0</td>\n",
       "      <td>-99.0</td>\n",
       "      <td>0.0</td>\n",
       "      <td>-99.0</td>\n",
       "      <td>-99.0</td>\n",
       "      <td>0.0</td>\n",
       "      <td>-99.0</td>\n",
       "      <td>-99.0</td>\n",
       "      <td>0.0</td>\n",
       "      <td>-99.0</td>\n",
       "      <td>-99.0</td>\n",
       "      <td>0.0</td>\n",
       "      <td>-99.0</td>\n",
       "      <td>-99.0</td>\n",
       "      <td>2.0</td>\n",
       "      <td>-99.0</td>\n",
       "      <td>-99.0</td>\n",
       "      <td>2.0</td>\n",
       "      <td>-99.0</td>\n",
       "      <td>-99.0</td>\n",
       "      <td>-99.0</td>\n",
       "      <td>-99.0</td>\n",
       "    </tr>\n",
       "  </tbody>\n",
       "</table>\n",
       "</div>"
      ],
      "text/plain": [
       "   ID  Insects  Crop  Soil  Category_of_Toxicant  Does_count  \\\n",
       "0   1      188     0     1                     1           0   \n",
       "1   2      209     0     1                     1           0   \n",
       "2   3      257     0     1                     1           0   \n",
       "3   4      257     0     0                     1           0   \n",
       "4   5      342     0     1                     1           0   \n",
       "\n",
       "   Number_of_Weeks_Used  Number_Weeks_does_not used  Season  Crop_status  \\\n",
       "0                   0.0                           0       1          0.0   \n",
       "1                   0.0                           0       2          1.0   \n",
       "2                   0.0                           0       2          1.0   \n",
       "3                   0.0                           0       2          1.0   \n",
       "4                   0.0                           0       2          1.0   \n",
       "\n",
       "   is_train  Insects_lag1  Insects_lag1_MA  Insects_lag1_MA_y  Insects_lag2  \\\n",
       "0         1         -99.0            -99.0           0.036745         -99.0   \n",
       "1         1         188.0            -99.0           0.031286         -99.0   \n",
       "2         1         209.0            -99.0           0.041402         188.0   \n",
       "3         1         257.0            -99.0           0.041402         209.0   \n",
       "4         1         257.0            -99.0           0.056619         257.0   \n",
       "\n",
       "   Insects_lag2_MA  Insects_lag2_MA_y  Crop_lag1  Crop_lag1_MA  \\\n",
       "0            -99.0           0.027196      -99.0         -99.0   \n",
       "1            -99.0           0.036745        0.0         -99.0   \n",
       "2            -99.0           0.024708        0.0         -99.0   \n",
       "3            -99.0           0.024708        0.0         -99.0   \n",
       "4            -99.0           0.053520        0.0         -99.0   \n",
       "\n",
       "   Crop_lag1_MA_y  Crop_lag2  Crop_lag2_MA  Crop_lag2_MA_y  Soil_lag1  \\\n",
       "0           -99.0      -99.0         -99.0           -99.0      -99.0   \n",
       "1           -99.0      -99.0         -99.0           -99.0        1.0   \n",
       "2           -99.0        0.0         -99.0           -99.0        1.0   \n",
       "3           -99.0        0.0         -99.0           -99.0        1.0   \n",
       "4           -99.0        0.0         -99.0           -99.0        0.0   \n",
       "\n",
       "   Soil_lag1_MA  Soil_lag1_MA_y  Soil_lag2  Soil_lag2_MA  Soil_lag2_MA_y  \\\n",
       "0         -99.0           -99.0      -99.0         -99.0           -99.0   \n",
       "1         -99.0           -99.0      -99.0         -99.0           -99.0   \n",
       "2         -99.0           -99.0        1.0         -99.0           -99.0   \n",
       "3         -99.0           -99.0        1.0         -99.0           -99.0   \n",
       "4         -99.0           -99.0        1.0         -99.0           -99.0   \n",
       "\n",
       "   Category_of_Toxicant_lag1  Category_of_Toxicant_lag1_MA  \\\n",
       "0                      -99.0                         -99.0   \n",
       "1                        1.0                         -99.0   \n",
       "2                        1.0                         -99.0   \n",
       "3                        1.0                         -99.0   \n",
       "4                        1.0                         -99.0   \n",
       "\n",
       "   Category_of_Toxicant_lag1_MA_y  Category_of_Toxicant_lag2  \\\n",
       "0                           -99.0                      -99.0   \n",
       "1                           -99.0                      -99.0   \n",
       "2                           -99.0                        1.0   \n",
       "3                           -99.0                        1.0   \n",
       "4                           -99.0                        1.0   \n",
       "\n",
       "   Category_of_Toxicant_lag2_MA  Category_of_Toxicant_lag2_MA_y  \\\n",
       "0                         -99.0                           -99.0   \n",
       "1                         -99.0                           -99.0   \n",
       "2                         -99.0                           -99.0   \n",
       "3                         -99.0                           -99.0   \n",
       "4                         -99.0                           -99.0   \n",
       "\n",
       "   Does_count_lag1  Does_count_lag1_MA  Does_count_lag1_MA_y  Does_count_lag2  \\\n",
       "0            -99.0               -99.0                 -99.0            -99.0   \n",
       "1              0.0               -99.0                 -99.0            -99.0   \n",
       "2              0.0               -99.0                 -99.0              0.0   \n",
       "3              0.0               -99.0                 -99.0              0.0   \n",
       "4              0.0               -99.0                 -99.0              0.0   \n",
       "\n",
       "   Does_count_lag2_MA  Does_count_lag2_MA_y  Number_of_Weeks_Used_lag1  \\\n",
       "0               -99.0                 -99.0                      -99.0   \n",
       "1               -99.0                 -99.0                        0.0   \n",
       "2               -99.0                 -99.0                        0.0   \n",
       "3               -99.0                 -99.0                        0.0   \n",
       "4               -99.0                 -99.0                        0.0   \n",
       "\n",
       "   Number_of_Weeks_Used_lag1_MA  Number_of_Weeks_Used_lag1_MA_y  \\\n",
       "0                         -99.0                           -99.0   \n",
       "1                         -99.0                           -99.0   \n",
       "2                         -99.0                           -99.0   \n",
       "3                         -99.0                           -99.0   \n",
       "4                         -99.0                           -99.0   \n",
       "\n",
       "   Number_of_Weeks_Used_lag2  Number_of_Weeks_Used_lag2_MA  \\\n",
       "0                      -99.0                         -99.0   \n",
       "1                      -99.0                         -99.0   \n",
       "2                        0.0                         -99.0   \n",
       "3                        0.0                         -99.0   \n",
       "4                        0.0                         -99.0   \n",
       "\n",
       "   Number_of_Weeks_Used_lag2_MA_y  Number_Weeks_does_not used_lag1  \\\n",
       "0                           -99.0                            -99.0   \n",
       "1                           -99.0                              0.0   \n",
       "2                           -99.0                              0.0   \n",
       "3                           -99.0                              0.0   \n",
       "4                           -99.0                              0.0   \n",
       "\n",
       "   Number_Weeks_does_not used_lag1_MA  Number_Weeks_does_not used_lag1_MA_y  \\\n",
       "0                               -99.0                                 -99.0   \n",
       "1                               -99.0                                 -99.0   \n",
       "2                               -99.0                                 -99.0   \n",
       "3                               -99.0                                 -99.0   \n",
       "4                               -99.0                                 -99.0   \n",
       "\n",
       "   Number_Weeks_does_not used_lag2  Number_Weeks_does_not used_lag2_MA  \\\n",
       "0                            -99.0                               -99.0   \n",
       "1                            -99.0                               -99.0   \n",
       "2                              0.0                               -99.0   \n",
       "3                              0.0                               -99.0   \n",
       "4                              0.0                               -99.0   \n",
       "\n",
       "   Number_Weeks_does_not used_lag2_MA_y  Season_lag1  Season_lag1_MA  \\\n",
       "0                                 -99.0        -99.0           -99.0   \n",
       "1                                 -99.0          1.0           -99.0   \n",
       "2                                 -99.0          2.0           -99.0   \n",
       "3                                 -99.0          2.0           -99.0   \n",
       "4                                 -99.0          2.0           -99.0   \n",
       "\n",
       "   Season_lag1_MA_y  Season_lag2  Season_lag2_MA  Season_lag2_MA_y  \\\n",
       "0             -99.0        -99.0           -99.0             -99.0   \n",
       "1             -99.0        -99.0           -99.0             -99.0   \n",
       "2             -99.0          1.0           -99.0             -99.0   \n",
       "3             -99.0          2.0           -99.0             -99.0   \n",
       "4             -99.0          2.0           -99.0             -99.0   \n",
       "\n",
       "   CSS_lag1_MA_y  CSS_lag2_MA_y  \n",
       "0          -99.0          -99.0  \n",
       "1          -99.0          -99.0  \n",
       "2          -99.0          -99.0  \n",
       "3          -99.0          -99.0  \n",
       "4          -99.0          -99.0  "
      ]
     },
     "execution_count": 171,
     "metadata": {},
     "output_type": "execute_result"
    }
   ],
   "source": [
    "for col in list(full_df.columns):\n",
    "    \n",
    "    if col not in ['ID','Crop_status','is_train']:\n",
    "        full_df[col+'_lag1'] = full_df[col].shift().fillna(-99).values  \n",
    "        \n",
    "        full_df[col+'_lag1_MA'] = full_df[col].shift().rolling(10).mean().fillna(-99).values\n",
    "        \n",
    "        b = dict(full_df.groupby([col])['Crop_status'].mean().shift().rolling(2).mean().fillna(-99))\n",
    "        full_df[col+'_lag1_MA_y'] = full_df[col].map(b).values\n",
    "            \n",
    "        full_df[col+'_lag2'] = full_df[col].shift(periods = 2).fillna(-99).values\n",
    "        \n",
    "        full_df[col+'_lag2_MA'] = full_df[col].shift(periods = 2).rolling(10).mean().fillna(-99).values\n",
    "            \n",
    "        d = dict(full_df.groupby([col])['Crop_status'].mean().shift(periods = 2).rolling(2).mean().fillna(-99))\n",
    "        full_df[col+'_lag2_MA_y'] = full_df[col].map(d).values\n",
    "\n",
    "f = dict(full_df.groupby(['Crop','Soil','Season'])['Crop_status'].mean().shift().rolling(2).mean().fillna(-99))\n",
    "full_df['CSS'+'_lag1_MA_y'] = full_df[col].map(b).values\n",
    "        \n",
    "c = dict(full_df.groupby(['Crop','Soil','Season'])['Crop_status'].mean().shift(periods = 2).rolling(2).mean().fillna(-99))\n",
    "full_df['CSS'+'_lag2_MA_y'] = full_df[col].map(b).values\n",
    "\n",
    "full_df.head()"
   ]
  },
  {
   "cell_type": "code",
   "execution_count": 172,
   "metadata": {},
   "outputs": [],
   "source": [
    "a = full_df.groupby(['Crop','Soil','Season'])['Crop_status'].mean().reset_index()\n",
    "a.columns = ['Crop','Soil','Season','mean_crop_soil_season']\n",
    "full_df = full_df.merge(a , on = ['Crop','Soil','Season'],how = 'left')"
   ]
  },
  {
   "cell_type": "code",
   "execution_count": 77,
   "metadata": {},
   "outputs": [
    {
     "data": {
      "text/plain": [
       "<matplotlib.axes._subplots.AxesSubplot at 0x1728c4f02c8>"
      ]
     },
     "execution_count": 77,
     "metadata": {},
     "output_type": "execute_result"
    },
    {
     "data": {
      "image/png": "[encoded data removed]",
      "text/plain": [
       "<Figure size 432x288 with 1 Axes>"
      ]
     },
     "metadata": {
      "needs_background": "light"
     },
     "output_type": "display_data"
    }
   ],
   "source": [
    "sns.lineplot(full_df.ID.loc[0:1000] , full_df.Insects_lag2_MA.loc[0:1000])"
   ]
  },
  {
   "cell_type": "code",
   "execution_count": 176,
   "metadata": {},
   "outputs": [],
   "source": [
    "train = full_df.iloc[0:80000 , :]\n",
    "test = full_df.iloc[80000: ,:]"
   ]
  },
  {
   "cell_type": "code",
   "execution_count": 174,
   "metadata": {},
   "outputs": [],
   "source": [
    "train = new.iloc[0:80000 , :]\n",
    "test = new.iloc[80000: ,:]"
   ]
  },
  {
   "cell_type": "code",
   "execution_count": 177,
   "metadata": {},
   "outputs": [],
   "source": [
    "train_x = train.loc[:,train.columns!='Crop_status']\n",
    "train_x.drop(columns = ['ID','is_train'],inplace = True)\n",
    "# train_x['Category_of_Toxicant'] = train_x['Category_of_Toxicant'].astype('float64')\n",
    "# train_x['Season'] = train_x['Season'].astype('float64')\n",
    "train_y = train.loc[:,'Crop_status']\n",
    "# train_y = train_y.astype('int64')\n",
    "test.drop(columns = ['ID','Crop_status','is_train'],inplace = True)"
   ]
  },
  {
   "cell_type": "code",
   "execution_count": 178,
   "metadata": {},
   "outputs": [],
   "source": [
    "# Sampling\n",
    "crop_train_x , crop_val_x , crop_train_y , crop_val_y = train_test_split(train_x,train_y,test_size = 0.3, \n",
    "                                                                           stratify = train_y.values,random_state=498)"
   ]
  },
  {
   "cell_type": "code",
   "execution_count": 179,
   "metadata": {},
   "outputs": [
    {
     "name": "stdout",
     "output_type": "stream",
     "text": [
      "0.8805833333333334 0.8842142857142857\n",
      "[[19664  1885   339]\n",
      " [  351  1470   291]\n",
      " [    0     0     0]]\n"
     ]
    }
   ],
   "source": [
    "# Xgboost\n",
    "from xgboost import XGBClassifier\n",
    "xgc = XGBClassifier(n_jobs = -1 , n_estimators = 100)\n",
    "xgc.fit(crop_train_x , crop_train_y)\n",
    "valid_pred = xgc.predict(crop_val_x) ; train_pred = xgc.predict(crop_train_x)\n",
    "valid_score = accuracy_score(valid_pred,crop_val_y) ; train_score = accuracy_score(train_pred, crop_train_y)\n",
    "print(valid_score , train_score)\n",
    "print(confusion_matrix(valid_pred, crop_val_y))"
   ]
  },
  {
   "cell_type": "code",
   "execution_count": 104,
   "metadata": {},
   "outputs": [
    {
     "data": {
      "text/plain": [
       "(56, 56)"
      ]
     },
     "execution_count": 104,
     "metadata": {},
     "output_type": "execute_result"
    }
   ],
   "source": [
    "len(xgc.feature_importances_),len(train_x.columns)"
   ]
  },
  {
   "cell_type": "code",
   "execution_count": 105,
   "metadata": {},
   "outputs": [],
   "source": [
    "fi = pd.DataFrame()"
   ]
  },
  {
   "cell_type": "code",
   "execution_count": 106,
   "metadata": {},
   "outputs": [
    {
     "name": "stdout",
     "output_type": "stream",
     "text": [
      "[0.         0.         0.         0.         0.         0.\n",
      " 0.         0.         0.         0.         0.         0.\n",
      " 0.00144153 0.00188228 0.00198286 0.00258851 0.00285329 0.00286865\n",
      " 0.00318736 0.00367903 0.00410379 0.00475182 0.0057069  0.00637708\n",
      " 0.00748128 0.00774756 0.00809867 0.00881473 0.00914841 0.00918761\n",
      " 0.00928814 0.00957403 0.00989929 0.01020958 0.0109371  0.01129766\n",
      " 0.01308365 0.01415501 0.01943429 0.02241303 0.02257734 0.02433651\n",
      " 0.02463183 0.0283416  0.0381854  0.03852936 0.03956778 0.04058299\n",
      " 0.04059156 0.04166532 0.04598174 0.04804333 0.05280159 0.05775134\n",
      " 0.103155   0.13106415]\n"
     ]
    }
   ],
   "source": [
    "print(np.sort(xgc.feature_importances_))"
   ]
  },
  {
   "cell_type": "code",
   "execution_count": 107,
   "metadata": {},
   "outputs": [
    {
     "data": {
      "text/html": [
       "<div>\n",
       "<style scoped>\n",
       "    .dataframe tbody tr th:only-of-type {\n",
       "        vertical-align: middle;\n",
       "    }\n",
       "\n",
       "    .dataframe tbody tr th {\n",
       "        vertical-align: top;\n",
       "    }\n",
       "\n",
       "    .dataframe thead th {\n",
       "        text-align: right;\n",
       "    }\n",
       "</style>\n",
       "<table border=\"1\" class=\"dataframe\">\n",
       "  <thead>\n",
       "    <tr style=\"text-align: right;\">\n",
       "      <th></th>\n",
       "      <th>features</th>\n",
       "      <th>FI</th>\n",
       "    </tr>\n",
       "  </thead>\n",
       "  <tbody>\n",
       "    <tr>\n",
       "      <th>39</th>\n",
       "      <td>Number_of_Weeks_Used_lag1_MA</td>\n",
       "      <td>0.131064</td>\n",
       "    </tr>\n",
       "    <tr>\n",
       "      <th>2</th>\n",
       "      <td>Soil</td>\n",
       "      <td>0.103155</td>\n",
       "    </tr>\n",
       "    <tr>\n",
       "      <th>3</th>\n",
       "      <td>Category_of_Toxicant</td>\n",
       "      <td>0.057751</td>\n",
       "    </tr>\n",
       "    <tr>\n",
       "      <th>35</th>\n",
       "      <td>Does_count_lag2</td>\n",
       "      <td>0.052802</td>\n",
       "    </tr>\n",
       "    <tr>\n",
       "      <th>32</th>\n",
       "      <td>Does_count_lag1</td>\n",
       "      <td>0.048043</td>\n",
       "    </tr>\n",
       "  </tbody>\n",
       "</table>\n",
       "</div>"
      ],
      "text/plain": [
       "                        features        FI\n",
       "39  Number_of_Weeks_Used_lag1_MA  0.131064\n",
       "2                           Soil  0.103155\n",
       "3           Category_of_Toxicant  0.057751\n",
       "35               Does_count_lag2  0.052802\n",
       "32               Does_count_lag1  0.048043"
      ]
     },
     "execution_count": 107,
     "metadata": {},
     "output_type": "execute_result"
    }
   ],
   "source": [
    "fi = pd.DataFrame({'features':list(train_x.columns),'FI':xgc.feature_importances_}).sort_values('FI',ascending = False)\n",
    "fi.head()"
   ]
  },
  {
   "cell_type": "code",
   "execution_count": 108,
   "metadata": {},
   "outputs": [
    {
     "data": {
      "text/plain": [
       "<matplotlib.axes._subplots.AxesSubplot at 0x172859428c8>"
      ]
     },
     "execution_count": 108,
     "metadata": {},
     "output_type": "execute_result"
    },
    {
     "data": {
      "image/png": "[encoded data removed]",
      "text/plain": [
       "<Figure size 720x720 with 1 Axes>"
      ]
     },
     "metadata": {
      "needs_background": "light"
     },
     "output_type": "display_data"
    }
   ],
   "source": [
    "plt.figure(figsize = (10,10))\n",
    "sns.barplot(fi.FI,fi.features,order = fi.sort_values('FI',ascending = False).features)"
   ]
  },
  {
   "cell_type": "code",
   "execution_count": 109,
   "metadata": {},
   "outputs": [
    {
     "data": {
      "image/png": "[encoded data removed]",
      "text/plain": [
       "<Figure size 432x288 with 1 Axes>"
      ]
     },
     "metadata": {
      "needs_background": "light"
     },
     "output_type": "display_data"
    }
   ],
   "source": [
    "_ = plot_importance(xgc, height=0.9,)"
   ]
  },
  {
   "cell_type": "code",
   "execution_count": 123,
   "metadata": {},
   "outputs": [],
   "source": [
    "weights = {0:0.5,1:0.8,2:1}"
   ]
  },
  {
   "cell_type": "code",
   "execution_count": 184,
   "metadata": {},
   "outputs": [
    {
     "name": "stdout",
     "output_type": "stream",
     "text": [
      "0.9257083333333334 0.9789821428571429\n",
      "[[19751   854   142]\n",
      " [  251  2445   467]\n",
      " [   13    56    21]]\n"
     ]
    }
   ],
   "source": [
    "# LightGBM\n",
    "lgb = LGBMClassifier(n_estimators = 500)\n",
    "lgb.fit(crop_train_x , crop_train_y)\n",
    "valid_pred = lgb.predict(crop_val_x) ; train_pred = lgb.predict(crop_train_x)\n",
    "valid_score = accuracy_score(valid_pred,crop_val_y) ; train_score = accuracy_score(train_pred, crop_train_y)\n",
    "print(valid_score , train_score)\n",
    "print(confusion_matrix(valid_pred, crop_val_y))"
   ]
  },
  {
   "cell_type": "code",
   "execution_count": 327,
   "metadata": {},
   "outputs": [
    {
     "data": {
      "text/plain": [
       "array([1., 1., 1., ..., 0., 0., 0.])"
      ]
     },
     "execution_count": 327,
     "metadata": {},
     "output_type": "execute_result"
    }
   ],
   "source": [
    "pred_value = lgb.predict(test)\n",
    "pred_value"
   ]
  },
  {
   "cell_type": "code",
   "execution_count": 328,
   "metadata": {},
   "outputs": [
    {
     "data": {
      "text/plain": [
       "{0.0, 1.0, 2.0}"
      ]
     },
     "execution_count": 328,
     "metadata": {},
     "output_type": "execute_result"
    }
   ],
   "source": [
    "set(pred_value)"
   ]
  },
  {
   "cell_type": "code",
   "execution_count": 333,
   "metadata": {},
   "outputs": [
    {
     "data": {
      "text/plain": [
       "35000"
      ]
     },
     "execution_count": 333,
     "metadata": {},
     "output_type": "execute_result"
    }
   ],
   "source": [
    "len(pred_value)"
   ]
  },
  {
   "cell_type": "code",
   "execution_count": 335,
   "metadata": {},
   "outputs": [
    {
     "data": {
      "text/html": [
       "<div>\n",
       "<style scoped>\n",
       "    .dataframe tbody tr th:only-of-type {\n",
       "        vertical-align: middle;\n",
       "    }\n",
       "\n",
       "    .dataframe tbody tr th {\n",
       "        vertical-align: top;\n",
       "    }\n",
       "\n",
       "    .dataframe thead th {\n",
       "        text-align: right;\n",
       "    }\n",
       "</style>\n",
       "<table border=\"1\" class=\"dataframe\">\n",
       "  <thead>\n",
       "    <tr style=\"text-align: right;\">\n",
       "      <th></th>\n",
       "      <th>ID</th>\n",
       "      <th>Crop_status</th>\n",
       "    </tr>\n",
       "  </thead>\n",
       "  <tbody>\n",
       "    <tr>\n",
       "      <th>0</th>\n",
       "      <td>1.0</td>\n",
       "      <td>0.0</td>\n",
       "    </tr>\n",
       "    <tr>\n",
       "      <th>1</th>\n",
       "      <td>2.0</td>\n",
       "      <td>1.0</td>\n",
       "    </tr>\n",
       "    <tr>\n",
       "      <th>2</th>\n",
       "      <td>3.0</td>\n",
       "      <td>2.0</td>\n",
       "    </tr>\n",
       "    <tr>\n",
       "      <th>3</th>\n",
       "      <td>4.0</td>\n",
       "      <td>3.0</td>\n",
       "    </tr>\n",
       "    <tr>\n",
       "      <th>4</th>\n",
       "      <td>5.0</td>\n",
       "      <td>4.0</td>\n",
       "    </tr>\n",
       "  </tbody>\n",
       "</table>\n",
       "</div>"
      ],
      "text/plain": [
       "    ID  Crop_status\n",
       "0  1.0          0.0\n",
       "1  2.0          1.0\n",
       "2  3.0          2.0\n",
       "3  4.0          3.0\n",
       "4  5.0          4.0"
      ]
     },
     "execution_count": 335,
     "metadata": {},
     "output_type": "execute_result"
    }
   ],
   "source": [
    "sub.head()"
   ]
  },
  {
   "cell_type": "code",
   "execution_count": 338,
   "metadata": {},
   "outputs": [],
   "source": [
    "sub = sub.dropna()"
   ]
  },
  {
   "cell_type": "code",
   "execution_count": 339,
   "metadata": {},
   "outputs": [
    {
     "data": {
      "text/plain": [
       "(35000, 2)"
      ]
     },
     "execution_count": 339,
     "metadata": {},
     "output_type": "execute_result"
    }
   ],
   "source": [
    "sub.shape"
   ]
  },
  {
   "cell_type": "code",
   "execution_count": 340,
   "metadata": {},
   "outputs": [],
   "source": [
    "sub['Crop_status'] = pred_value"
   ]
  },
  {
   "cell_type": "code",
   "execution_count": 341,
   "metadata": {},
   "outputs": [],
   "source": [
    "excel = pd.ExcelWriter('crop1.xlsx')\n",
    "sub.to_excel(excel)\n",
    "excel.save()"
   ]
  },
  {
   "cell_type": "code",
   "execution_count": null,
   "metadata": {},
   "outputs": [],
   "source": []
  }
 ],
 "metadata": {
  "kernelspec": {
   "display_name": "Python 3",
   "language": "python",
   "name": "python3"
  },
  "language_info": {
   "codemirror_mode": {
    "name": "ipython",
    "version": 3
   },
   "file_extension": ".py",
   "mimetype": "text/x-python",
   "name": "python",
   "nbconvert_exporter": "python",
   "pygments_lexer": "ipython3",
   "version": "3.7.6"
  }
 },
 "nbformat": 4,
 "nbformat_minor": 4
}
